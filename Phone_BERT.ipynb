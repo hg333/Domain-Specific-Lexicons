{
  "nbformat": 4,
  "nbformat_minor": 0,
  "metadata": {
    "colab": {
      "name": "Phone_BERT.ipynb",
      "provenance": [],
      "toc_visible": true,
      "authorship_tag": "ABX9TyNNY8SPgF+HmbHqqYonf7To",
      "include_colab_link": true
    },
    "kernelspec": {
      "name": "python3",
      "display_name": "Python 3"
    }
  },
  "cells": [
    {
      "cell_type": "markdown",
      "metadata": {
        "id": "view-in-github",
        "colab_type": "text"
      },
      "source": [
        "<a href=\"https://colab.research.google.com/github/hg333/Domain-Specific-Lexicons/blob/main/Phone_BERT.ipynb\" target=\"_parent\"><img src=\"https://colab.research.google.com/assets/colab-badge.svg\" alt=\"Open In Colab\"/></a>"
      ]
    },
    {
      "cell_type": "code",
      "metadata": {
        "colab": {
          "resources": {
            "http://localhost:8080/nbextensions/google.colab/files.js": {
              "data": "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",
              "ok": true,
              "headers": [
                [
                  "content-type",
                  "application/javascript"
                ]
              ],
              "status": 200,
              "status_text": ""
            }
          },
          "base_uri": "https://localhost:8080/",
          "height": 140
        },
        "id": "fUzfZSJMGezF",
        "outputId": "42a5dad6-fc07-46ab-c214-f6446a2a532a"
      },
      "source": [
        "!pip install -q kaggle \n",
        "from google.colab import files\n",
        "files.upload()\n",
        "!mkdir ~/.kaggle\n",
        "!cp kaggle.json ~/.kaggle/\n",
        "!chmod 600 ~/.kaggle/kaggle.json\n",
        "!kaggle datasets download -d \"PromptCloudHQ/amazon-reviews-unlocked-mobile-phones\"\n",
        "!ls"
      ],
      "execution_count": null,
      "outputs": [
        {
          "output_type": "display_data",
          "data": {
            "text/html": [
              "\n",
              "     <input type=\"file\" id=\"files-c2b14dff-11b8-4d28-8585-9a9b559a5bf2\" name=\"files[]\" multiple disabled\n",
              "        style=\"border:none\" />\n",
              "     <output id=\"result-c2b14dff-11b8-4d28-8585-9a9b559a5bf2\">\n",
              "      Upload widget is only available when the cell has been executed in the\n",
              "      current browser session. Please rerun this cell to enable.\n",
              "      </output>\n",
              "      <script src=\"/nbextensions/google.colab/files.js\"></script> "
            ],
            "text/plain": [
              "<IPython.core.display.HTML object>"
            ]
          },
          "metadata": {
            "tags": []
          }
        },
        {
          "output_type": "stream",
          "text": [
            "Saving kaggle.json to kaggle.json\n",
            "Downloading amazon-reviews-unlocked-mobile-phones.zip to /content\n",
            " 98% 32.0M/32.6M [00:00<00:00, 49.5MB/s]\n",
            "100% 32.6M/32.6M [00:00<00:00, 82.4MB/s]\n",
            "amazon-reviews-unlocked-mobile-phones.zip  kaggle.json\tsample_data\n"
          ],
          "name": "stdout"
        }
      ]
    },
    {
      "cell_type": "code",
      "metadata": {
        "colab": {
          "base_uri": "https://localhost:8080/"
        },
        "id": "kQ_1KCOFInoM",
        "outputId": "cf55a3e5-c5e9-4ac1-e3c1-1b0d5b673f82"
      },
      "source": [
        "import numpy as np\n",
        "import re\n",
        "import pandas as pd\n",
        "import nltk\n",
        "nltk.download('stopwords')\n",
        "nltk.download('punkt')\n",
        "nltk.download('averaged_perceptron_tagger')\n",
        "nltk.download('wordnet')\n",
        "nltk.download('sentiwordnet')\n",
        "from nltk.corpus import stopwords\n",
        "from nltk.tokenize import word_tokenize\n",
        "from nltk.tag import pos_tag\n",
        "from nltk.stem.wordnet import WordNetLemmatizer\n",
        "from nltk.stem import PorterStemmer\n",
        "lemmatizer = WordNetLemmatizer()\n",
        "!pip install senticnet\n",
        "from senticnet.senticnet import SenticNet\n",
        "sn = SenticNet()\n",
        "import math\n",
        "import matplotlib.pyplot as plt\n",
        "import re\n",
        "from nltk.corpus import sentiwordnet as swn\n",
        "from nltk.corpus import wordnet as wn"
      ],
      "execution_count": null,
      "outputs": [
        {
          "output_type": "stream",
          "text": [
            "[nltk_data] Downloading package stopwords to /root/nltk_data...\n",
            "[nltk_data]   Unzipping corpora/stopwords.zip.\n",
            "[nltk_data] Downloading package punkt to /root/nltk_data...\n",
            "[nltk_data]   Unzipping tokenizers/punkt.zip.\n",
            "[nltk_data] Downloading package averaged_perceptron_tagger to\n",
            "[nltk_data]     /root/nltk_data...\n",
            "[nltk_data]   Unzipping taggers/averaged_perceptron_tagger.zip.\n",
            "[nltk_data] Downloading package wordnet to /root/nltk_data...\n",
            "[nltk_data]   Unzipping corpora/wordnet.zip.\n",
            "[nltk_data] Downloading package sentiwordnet to /root/nltk_data...\n",
            "[nltk_data]   Unzipping corpora/sentiwordnet.zip.\n",
            "Collecting senticnet\n",
            "\u001b[?25l  Downloading https://files.pythonhosted.org/packages/f3/8e/c72d2c5186f762f13d3d8cf63aedeb973b95d45d62b59a63006060073e3a/senticnet-1.6-py3-none-any.whl (51.9MB)\n",
            "\u001b[K     |████████████████████████████████| 51.9MB 68kB/s \n",
            "\u001b[?25hInstalling collected packages: senticnet\n",
            "Successfully installed senticnet-1.6\n"
          ],
          "name": "stdout"
        }
      ]
    },
    {
      "cell_type": "code",
      "metadata": {
        "colab": {
          "base_uri": "https://localhost:8080/",
          "height": 204
        },
        "id": "rtLtXQHFI1ld",
        "outputId": "6c0649ad-86c7-4efc-c5ec-7f372cc52b80"
      },
      "source": [
        "df= pd.read_csv(\"amazon-reviews-unlocked-mobile-phones.zip\")\n",
        "df.head()"
      ],
      "execution_count": null,
      "outputs": [
        {
          "output_type": "execute_result",
          "data": {
            "text/html": [
              "<div>\n",
              "<style scoped>\n",
              "    .dataframe tbody tr th:only-of-type {\n",
              "        vertical-align: middle;\n",
              "    }\n",
              "\n",
              "    .dataframe tbody tr th {\n",
              "        vertical-align: top;\n",
              "    }\n",
              "\n",
              "    .dataframe thead th {\n",
              "        text-align: right;\n",
              "    }\n",
              "</style>\n",
              "<table border=\"1\" class=\"dataframe\">\n",
              "  <thead>\n",
              "    <tr style=\"text-align: right;\">\n",
              "      <th></th>\n",
              "      <th>Product Name</th>\n",
              "      <th>Brand Name</th>\n",
              "      <th>Price</th>\n",
              "      <th>Rating</th>\n",
              "      <th>Reviews</th>\n",
              "      <th>Review Votes</th>\n",
              "    </tr>\n",
              "  </thead>\n",
              "  <tbody>\n",
              "    <tr>\n",
              "      <th>0</th>\n",
              "      <td>\"CLEAR CLEAN ESN\" Sprint EPIC 4G Galaxy SPH-D7...</td>\n",
              "      <td>Samsung</td>\n",
              "      <td>199.99</td>\n",
              "      <td>5</td>\n",
              "      <td>I feel so LUCKY to have found this used (phone...</td>\n",
              "      <td>1.0</td>\n",
              "    </tr>\n",
              "    <tr>\n",
              "      <th>1</th>\n",
              "      <td>\"CLEAR CLEAN ESN\" Sprint EPIC 4G Galaxy SPH-D7...</td>\n",
              "      <td>Samsung</td>\n",
              "      <td>199.99</td>\n",
              "      <td>4</td>\n",
              "      <td>nice phone, nice up grade from my pantach revu...</td>\n",
              "      <td>0.0</td>\n",
              "    </tr>\n",
              "    <tr>\n",
              "      <th>2</th>\n",
              "      <td>\"CLEAR CLEAN ESN\" Sprint EPIC 4G Galaxy SPH-D7...</td>\n",
              "      <td>Samsung</td>\n",
              "      <td>199.99</td>\n",
              "      <td>5</td>\n",
              "      <td>Very pleased</td>\n",
              "      <td>0.0</td>\n",
              "    </tr>\n",
              "    <tr>\n",
              "      <th>3</th>\n",
              "      <td>\"CLEAR CLEAN ESN\" Sprint EPIC 4G Galaxy SPH-D7...</td>\n",
              "      <td>Samsung</td>\n",
              "      <td>199.99</td>\n",
              "      <td>4</td>\n",
              "      <td>It works good but it goes slow sometimes but i...</td>\n",
              "      <td>0.0</td>\n",
              "    </tr>\n",
              "    <tr>\n",
              "      <th>4</th>\n",
              "      <td>\"CLEAR CLEAN ESN\" Sprint EPIC 4G Galaxy SPH-D7...</td>\n",
              "      <td>Samsung</td>\n",
              "      <td>199.99</td>\n",
              "      <td>4</td>\n",
              "      <td>Great phone to replace my lost phone. The only...</td>\n",
              "      <td>0.0</td>\n",
              "    </tr>\n",
              "  </tbody>\n",
              "</table>\n",
              "</div>"
            ],
            "text/plain": [
              "                                        Product Name  ... Review Votes\n",
              "0  \"CLEAR CLEAN ESN\" Sprint EPIC 4G Galaxy SPH-D7...  ...          1.0\n",
              "1  \"CLEAR CLEAN ESN\" Sprint EPIC 4G Galaxy SPH-D7...  ...          0.0\n",
              "2  \"CLEAR CLEAN ESN\" Sprint EPIC 4G Galaxy SPH-D7...  ...          0.0\n",
              "3  \"CLEAR CLEAN ESN\" Sprint EPIC 4G Galaxy SPH-D7...  ...          0.0\n",
              "4  \"CLEAR CLEAN ESN\" Sprint EPIC 4G Galaxy SPH-D7...  ...          0.0\n",
              "\n",
              "[5 rows x 6 columns]"
            ]
          },
          "metadata": {
            "tags": []
          },
          "execution_count": 59
        }
      ]
    },
    {
      "cell_type": "code",
      "metadata": {
        "id": "fQ4ixzpVbsip"
      },
      "source": [
        ""
      ],
      "execution_count": null,
      "outputs": []
    },
    {
      "cell_type": "code",
      "metadata": {
        "id": "RdvcaL5iMNRR"
      },
      "source": [
        "li= list(df['Reviews'])\n",
        "rating=list(df['Rating'])"
      ],
      "execution_count": null,
      "outputs": []
    },
    {
      "cell_type": "code",
      "metadata": {
        "id": "mq8pZSCKMfEj"
      },
      "source": [
        "stop_words = set(stopwords.words('english'))\n",
        "def preprocess(str):\n",
        "  str=pos_tag(word_tokenize(str))\n",
        "  ret=[]\n",
        "\n",
        "  for word,tag in str:\n",
        "    if word!=\"br\" and word.isalpha() and (word.lower() not in stop_words):\n",
        "      if tag.startswith('NN'):\n",
        "        pos = 'n'\n",
        "      elif tag.startswith('VB'):\n",
        "        pos = 'v'\n",
        "      else:\n",
        "        pos='a'\n",
        "      ret.append((lemmatizer.lemmatize(word.lower(), pos),tag))\n",
        "  return ret\n"
      ],
      "execution_count": null,
      "outputs": []
    },
    {
      "cell_type": "code",
      "metadata": {
        "id": "lD8DmF--MmwG"
      },
      "source": [
        "\n",
        "\n",
        "def retpos(tag):\n",
        "  if tag.startswith('N'):\n",
        "    return 'n'\n",
        "  elif tag.startswith('V'):\n",
        "    return 'v'\n",
        "  elif tag.startswith('RB'):\n",
        "    return 'r'\n",
        "  elif tag.startswith('J'):\n",
        "    return 'a'\n",
        "\n",
        "  return None\n",
        "\n",
        "# def getSWNscore(str):\n",
        "#     str=str.lower()\n",
        "#     tagg=pos_tag(word_tokenize(str))\n",
        "#     ansP=0\n",
        "#     ansN=0\n",
        "#     for i in tagg:\n",
        "#       try:\n",
        "#         ansP+=swn.senti_synset(i[0]+'.'+retpos(i[1]).lower()+'.03').pos_score()\n",
        "#         ansN+=swn.senti_synset(i[0]+'.'+retpos(i[1]).lower()+'.03').neg_score()\n",
        "#       except:\n",
        "#         continue\n",
        "#       print(i,ansP,ansN,getscore(i[0]));\n",
        "    \n",
        "#     if ansP==0 and ansN==0: return getscore(str)\n",
        "#     if ansP>=ansN: return ansP\n",
        "#     else : return -ansN\n",
        "#     #return (ansP,ansN)\n",
        "\n",
        "\n",
        "def getMinDistSum(positions):\n",
        "    def get_norm(point1, point2):\n",
        "        return math.sqrt((point1[0] - point2[0]) * (point1[0] - point2[0]) + \\\n",
        "                    (point1[1] - point2[1]) * (point1[1] - point2[1]))\n",
        "    \n",
        "    # geometric median\n",
        "    if (len(positions)==0): return((0,0),\"NEUTRAL\")\n",
        "    center_x = sum([x for x, y in positions]) / len(positions)\n",
        "    center_y = sum([y for x, y in positions]) / len(positions)\n",
        "    center_new = (center_x, center_y)\n",
        "    center_prev = (center_x - 1.0, center_y - 1.0)\n",
        "    epox=1\n",
        "    while epox<50 and get_norm(center_prev, center_new) > 1e-8:\n",
        "        up_x = 0\n",
        "        up_y = 0\n",
        "        down = 0\n",
        "        for point in positions:\n",
        "            distance = get_norm(center_new, point)\n",
        "            if -0.001 < distance < 0.001:\n",
        "                continue\n",
        "            up_x += point[0] / distance\n",
        "            up_y += point[1] / distance\n",
        "            down += 1 / distance\n",
        "            \n",
        "        if down == 0:\n",
        "            break\n",
        "            \n",
        "        center_prev = center_new\n",
        "        center_new = (up_x / down, up_y / down)\n",
        "        epox+=1\n",
        "    res=\"\"\n",
        "    if center_new[1]>0:\n",
        "      if center_new[0]<0: res=\"VERY POS\"\n",
        "      else: res=\"POS\"\n",
        "    else:\n",
        "      if center_new[0]<0: res=\"VERY NEG\"\n",
        "      else: res=\"NEG\"\n",
        "    return (center_new,res)"
      ],
      "execution_count": null,
      "outputs": []
    },
    {
      "cell_type": "code",
      "metadata": {
        "id": "IWGIpgQjN2Tz",
        "colab": {
          "base_uri": "https://localhost:8080/"
        },
        "outputId": "a756e344-a6dd-41e9-c574-28824dbf2070"
      },
      "source": [
        "import gensim.downloader\n",
        "glove_vectors = gensim.downloader.load('glove-wiki-gigaword-200')"
      ],
      "execution_count": null,
      "outputs": [
        {
          "output_type": "stream",
          "text": [
            "[========================================----------] 81.7% 205.9/252.1MB downloaded"
          ],
          "name": "stdout"
        }
      ]
    },
    {
      "cell_type": "code",
      "metadata": {
        "id": "Dn2Iel1mBGFF"
      },
      "source": [
        ""
      ],
      "execution_count": null,
      "outputs": []
    },
    {
      "cell_type": "code",
      "metadata": {
        "id": "UR5usGtA8O1e"
      },
      "source": [
        ""
      ],
      "execution_count": null,
      "outputs": []
    },
    {
      "cell_type": "code",
      "metadata": {
        "colab": {
          "base_uri": "https://localhost:8080/"
        },
        "id": "DmzSciNluFTC",
        "outputId": "6222d7d5-adf8-4aee-80f0-bb2b42a3c273"
      },
      "source": [
        "glove_vectors.similarity('phone','bad')"
      ],
      "execution_count": null,
      "outputs": [
        {
          "output_type": "execute_result",
          "data": {
            "text/plain": [
              "0.287987"
            ]
          },
          "metadata": {
            "tags": []
          },
          "execution_count": 30
        }
      ]
    },
    {
      "cell_type": "code",
      "metadata": {
        "colab": {
          "base_uri": "https://localhost:8080/"
        },
        "id": "CSiq8i1m8PWg",
        "outputId": "fa643cc4-1621-41f2-faab-eeddbe35d2c6"
      },
      "source": [
        "\n",
        "# import these modules \n",
        "from nltk.stem import PorterStemmer \n",
        "from nltk.tokenize import word_tokenize \n",
        "   \n",
        "ps = PorterStemmer() \n",
        "  \n",
        "# choose some words to be stemmed \n",
        "words = [\"program\", \"programs\", \"programer\", \"great\", \"flawless\"] \n",
        "  \n",
        "for w in words: \n",
        "    print(w, \" : \", ps.stem(w)) "
      ],
      "execution_count": null,
      "outputs": [
        {
          "output_type": "stream",
          "text": [
            "program  :  program\n",
            "programs  :  program\n",
            "programer  :  program\n",
            "great  :  great\n",
            "flawless  :  flawless\n"
          ],
          "name": "stdout"
        }
      ]
    },
    {
      "cell_type": "code",
      "metadata": {
        "id": "fdFajbnwvMhX"
      },
      "source": [
        "\n",
        "def getSWNscore2(word,tag):\n",
        "  if word in stop_words: return 0\n",
        "  wt=word\n",
        "  word = ps.stem(word)\n",
        "  p=0\n",
        "  n=0\n",
        "  try:\n",
        "    #print(wt,retpos(tag))\n",
        "    for i in swn.senti_synsets(wt,retpos(tag)):\n",
        "      p=max(p,i.pos_score())\n",
        "      n=max(n,i.neg_score())\n",
        "      break\n",
        "    # p=swn.senti_synset(word+'.'+retpos(tag).lower()+'.01').pos_score()\n",
        "    # n=swn.senti_synset(word+'.'+retpos(tag).lower()+'.01').neg_score()\n",
        "  except:\n",
        "    try:\n",
        "      for i in swn.senti_synsets(word,retpos(tag)):\n",
        "        p=max(p,i.pos_score())\n",
        "        n=max(n,i.neg_score())\n",
        "        break\n",
        "    except:\n",
        "      p=0\n",
        "      n=0\n",
        "  #if p==0 and n==0: return getscore(word)\n",
        "  \n",
        "  if p>=n: return p\n",
        "  else : return -n\n",
        "\n",
        "def getLexiScore(word,tag):\n",
        "  theta=np.pi*getSWNscore2(word,tag)/2\n",
        "  r=0\n",
        "  try:\n",
        "    r=abs(glove_vectors.similarity('phone',word));\n",
        "  except:\n",
        "    r=0\n",
        "\n",
        "  if (theta==0 or r==0): return False\n",
        " # print(word,theta,r);\n",
        "  return (r*math.cos(theta),r*math.sin(theta))\n",
        "\n",
        "def evaluate1(str):\n",
        "  str=str.lower()\n",
        "  text = str\n",
        "  str= word_tokenize(str)\n",
        "  ret=[]\n",
        "  regex1 = \"no|never|nothing|nowhere|noone|none|not|havent|hasnt|hadnt|cant|couldnt|shouldnt|wont|wouldnt|dont|doesnt|didnt|isnt|arent|aint|n't\"\n",
        "  regex1=regex1.split(\"|\")\n",
        "  #print(regex1)\n",
        "  for i in regex1:\n",
        "    if(text.find(i)!=-1) :return False\n",
        "  str=pos_tag(str);\n",
        "  sentiment=0\n",
        "  for word,tag in str:\n",
        "    if (word!=\"br\" and word.isalpha() and (word.lower() not in stop_words)):\n",
        "      # if tag.startswith('NN'):\n",
        "      #   pos = 'n'\n",
        "      # elif tag.startswith('VB'):\n",
        "      #   pos = 'v'\n",
        "      # elif tag.startswith('J'):\n",
        "      #   pos='a'\n",
        "      # else : continue\n",
        "      # #print(word)\n",
        "      # #t=getLexiScore(lemmatizer.lemmatize(word.lower(), pos))\n",
        "      t=getLexiScore(word,tag)\n",
        "      \n",
        "      if t: \n",
        "        ret.append((word,t[1]))\n",
        "        sentiment+=t[1]\n",
        "     # print(ret)\n",
        "  return ret,sentiment # return getMinDistSum(ret)"
      ],
      "execution_count": null,
      "outputs": []
    },
    {
      "cell_type": "code",
      "metadata": {
        "id": "JKqWWBIcRIfu"
      },
      "source": [
        "\n",
        "def getscore(str):\n",
        "    ret=0\n",
        "    try: \n",
        "      ret=(float(sn.polarity_value(str)))\n",
        "    except:\n",
        "      ret=0\n",
        "    return (ret)\n",
        "\n",
        "def getSWNscore(str):\n",
        "    str=str.lower()\n",
        "    tagg=pos_tag(word_tokenize(str))\n",
        "    #print(tagg)\n",
        "    ansP=0\n",
        "    ansN=0\n",
        "    ret=[]\n",
        "    ans=0\n",
        "    for i in tagg:\n",
        "      x=getSWNscore2(i[0],i[1])\n",
        "      if(x !=0): ret.append((i[0],x))\n",
        "      ans+=x\n",
        "    return ret,ans"
      ],
      "execution_count": null,
      "outputs": []
    },
    {
      "cell_type": "code",
      "metadata": {
        "colab": {
          "base_uri": "https://localhost:8080/"
        },
        "id": "5I9zsx8DRIcv",
        "outputId": "c69e122d-f1a1-4e1b-e179-c2021277e7a7"
      },
      "source": [
        "pos_tag(word_tokenize(\"I got it with cover plus Adhesive protection film on both sides\"))"
      ],
      "execution_count": null,
      "outputs": [
        {
          "output_type": "execute_result",
          "data": {
            "text/plain": [
              "[('I', 'PRP'),\n",
              " ('got', 'VBD'),\n",
              " ('it', 'PRP'),\n",
              " ('with', 'IN'),\n",
              " ('cover', 'NN'),\n",
              " ('plus', 'CC'),\n",
              " ('Adhesive', 'JJ'),\n",
              " ('protection', 'NN'),\n",
              " ('film', 'NN'),\n",
              " ('on', 'IN'),\n",
              " ('both', 'DT'),\n",
              " ('sides', 'NNS')]"
            ]
          },
          "metadata": {
            "tags": []
          },
          "execution_count": 178
        }
      ]
    },
    {
      "cell_type": "code",
      "metadata": {
        "colab": {
          "base_uri": "https://localhost:8080/"
        },
        "id": "egl6wvWTwpr6",
        "outputId": "4554a586-d626-4889-e156-c81c70238be0"
      },
      "source": [
        "k=evaluate1(\"I give to you 5 starts because you deserve it. that experience with you was really great I am very happy to have business with you once again thank you and keep doing like that.\")\n",
        "if k:\n",
        "  print(k)"
      ],
      "execution_count": null,
      "outputs": [
        {
          "output_type": "stream",
          "text": [
            "([('give', -0.07607853071498374), ('deserve', 0.08034800082956256), ('really', 0.2805128603862278), ('happy', 0.2578765056590756), ('like', 0.07685939360093735)], 0.6195182297608195)\n"
          ],
          "name": "stdout"
        }
      ]
    },
    {
      "cell_type": "code",
      "metadata": {
        "colab": {
          "base_uri": "https://localhost:8080/"
        },
        "id": "8nAOE_AlQkjL",
        "outputId": "0d0ad7dd-7a82-4361-f3d7-72819dce4b28"
      },
      "source": [
        "for i in swn.senti_synsets('flawless'):\n",
        "  print(i)"
      ],
      "execution_count": null,
      "outputs": [
        {
          "output_type": "stream",
          "text": [
            "<flawless.s.01: PosScore=0.0 NegScore=0.375>\n"
          ],
          "name": "stdout"
        }
      ]
    },
    {
      "cell_type": "code",
      "metadata": {
        "colab": {
          "base_uri": "https://localhost:8080/"
        },
        "id": "gmBBk6YEQkak",
        "outputId": "404b324e-8754-44a8-dc5a-121444a66eb3"
      },
      "source": [
        "for i in swn.senti_synsets('high'):\n",
        "  print(i)"
      ],
      "execution_count": null,
      "outputs": [
        {
          "output_type": "stream",
          "text": [
            "<high.n.01: PosScore=0.125 NegScore=0.0>\n",
            "<high.n.02: PosScore=0.0 NegScore=0.0>\n",
            "<high.n.03: PosScore=0.0 NegScore=0.125>\n",
            "<high.n.04: PosScore=0.0 NegScore=0.0>\n",
            "<high.n.05: PosScore=0.0 NegScore=0.0>\n",
            "<senior_high_school.n.01: PosScore=0.0 NegScore=0.0>\n",
            "<high_gear.n.01: PosScore=0.0 NegScore=0.0>\n",
            "<high.a.01: PosScore=0.125 NegScore=0.25>\n",
            "<high.a.02: PosScore=0.125 NegScore=0.0>\n",
            "<eminent.s.01: PosScore=0.375 NegScore=0.125>\n",
            "<high.a.04: PosScore=0.0 NegScore=0.0>\n",
            "<high.s.05: PosScore=0.5 NegScore=0.0>\n",
            "<gamey.s.02: PosScore=0.0 NegScore=0.125>\n",
            "<high.s.07: PosScore=0.125 NegScore=0.0>\n",
            "<high.r.01: PosScore=0.0 NegScore=0.0>\n",
            "<high.r.02: PosScore=0.0 NegScore=0.0>\n",
            "<high.r.03: PosScore=0.25 NegScore=0.0>\n",
            "<high.r.04: PosScore=0.0 NegScore=0.0>\n"
          ],
          "name": "stdout"
        }
      ]
    },
    {
      "cell_type": "code",
      "metadata": {
        "colab": {
          "base_uri": "https://localhost:8080/"
        },
        "id": "ofg_0lbIEnwQ",
        "outputId": "67bb0d8c-94d1-42e7-caac-1e77384e2b85"
      },
      "source": [
        "getSWNscore('''At first glance, the phone looked fine, however the photo's I took using my phone looks \"foggy\". Upon closer inspection, there are gouges/crapes right on the exterior of the camera lens. Also, while this is a 3G phone, it has difficulty connecting. My partner has the exact same phone and when in the house or riding down the highway, his will be on 3G while mine is on 1x... whatever that is. Doing simple processes is delayed as if the processor or RAM is having some problem''')"
      ],
      "execution_count": null,
      "outputs": [
        {
          "output_type": "execute_result",
          "data": {
            "text/plain": [
              "([('fine', 0.375),\n",
              "  ('however', -0.5),\n",
              "  ('foggy', -0.5),\n",
              "  ('right', 0.25),\n",
              "  ('difficulty', -0.5),\n",
              "  ('simple', -0.375),\n",
              "  ('delayed', 0.125),\n",
              "  ('problem', -0.625)],\n",
              " -1.75)"
            ]
          },
          "metadata": {
            "tags": []
          },
          "execution_count": 182
        }
      ]
    },
    {
      "cell_type": "code",
      "metadata": {
        "id": "HknRiSjuBTfm",
        "colab": {
          "base_uri": "https://localhost:8080/",
          "height": 69
        },
        "outputId": "f321d3c9-5db2-4199-c09e-74c1f05d8afb"
      },
      "source": [
        "li[0]"
      ],
      "execution_count": null,
      "outputs": [
        {
          "output_type": "execute_result",
          "data": {
            "application/vnd.google.colaboratory.intrinsic+json": {
              "type": "string"
            },
            "text/plain": [
              "\"I feel so LUCKY to have found this used (phone to us & not used hard at all), phone on line from someone who upgraded and sold this one. My Son liked his old one that finally fell apart after 2.5+ years and didn't want an upgrade!! Thank you Seller, we really appreciate it & your honesty re: said used phone.I recommend this seller very highly & would but from them again!!\""
            ]
          },
          "metadata": {
            "tags": []
          },
          "execution_count": 183
        }
      ]
    },
    {
      "cell_type": "code",
      "metadata": {
        "id": "kcC5cIJFEmP7",
        "colab": {
          "base_uri": "https://localhost:8080/"
        },
        "outputId": "f9252692-c769-40ec-809c-d6d3efcc96d7"
      },
      "source": [
        "evaluate1"
      ],
      "execution_count": null,
      "outputs": [
        {
          "output_type": "execute_result",
          "data": {
            "text/plain": [
              "<function __main__.evaluate1>"
            ]
          },
          "metadata": {
            "tags": []
          },
          "execution_count": 184
        }
      ]
    },
    {
      "cell_type": "code",
      "metadata": {
        "colab": {
          "base_uri": "https://localhost:8080/"
        },
        "id": "r8nzotohwpvH",
        "outputId": "386df4ed-e37d-4063-e3bc-ea12acfc8950"
      },
      "source": [
        "evaluate1('I HATE THIS PHONE, WEEK LATER HAD TO BUY ANOTHER ONE...ITS SLOW AND STORAGE IS VERY POOR...A WASTE OF MONEY...NEVER AGAIN...')"
      ],
      "execution_count": null,
      "outputs": [
        {
          "output_type": "execute_result",
          "data": {
            "text/plain": [
              "False"
            ]
          },
          "metadata": {
            "tags": []
          },
          "execution_count": 185
        }
      ]
    },
    {
      "cell_type": "code",
      "metadata": {
        "colab": {
          "base_uri": "https://localhost:8080/"
        },
        "id": "u4FTFs3ywpx3",
        "outputId": "2fbae055-9261-4c8d-cf22-4f803dabd792"
      },
      "source": [
        "res=[]\n",
        "interesting=[]\n",
        "for i in range(len(li)):\n",
        "  if (li[i]==li[i]):\n",
        "    k=evaluate1(li[i])\n",
        "    if (k):\n",
        "      k2=getSWNscore(li[i])\n",
        "      res.append([li[i],k[1],k[0],k2[1],k2[0],rating[i]])\n",
        "      if k2[1]*k[1]<=0:#k[0][1]\n",
        "        interesting.append([li[i],k,getSWNscore(li[i]),rating[i]])\n",
        "    if(i%5000==0):\n",
        "      print(i,end=\" \")"
      ],
      "execution_count": null,
      "outputs": [
        {
          "output_type": "stream",
          "text": [
            "0 5000 10000 15000 20000 25000 30000 35000 40000 45000 50000 55000 60000 65000 70000 75000 80000 85000 90000 95000 100000 105000 110000 115000 120000 125000 130000 135000 140000 145000 150000 155000 160000 165000 170000 175000 180000 185000 190000 195000 200000 205000 210000 215000 220000 225000 230000 235000 240000 245000 250000 255000 260000 265000 270000 275000 280000 285000 290000 295000 300000 305000 310000 315000 320000 325000 330000 335000 340000 345000 350000 355000 360000 365000 370000 375000 380000 385000 390000 395000 400000 405000 410000 "
          ],
          "name": "stdout"
        }
      ]
    },
    {
      "cell_type": "markdown",
      "metadata": {
        "id": "d-jROLrELs1f"
      },
      "source": [
        ""
      ]
    },
    {
      "cell_type": "code",
      "metadata": {
        "id": "21PGx4POw64A"
      },
      "source": [
        ""
      ],
      "execution_count": null,
      "outputs": []
    },
    {
      "cell_type": "code",
      "metadata": {
        "id": "iaTBkEb8wrB9"
      },
      "source": [
        "interDF=pd.DataFrame(interesting)"
      ],
      "execution_count": null,
      "outputs": []
    },
    {
      "cell_type": "code",
      "metadata": {
        "colab": {
          "base_uri": "https://localhost:8080/",
          "height": 204
        },
        "id": "Pykshxp_0BeA",
        "outputId": "2c706a57-5585-4a1d-ead2-7b38d2a6a281"
      },
      "source": [
        "interDF.head()"
      ],
      "execution_count": null,
      "outputs": [
        {
          "output_type": "execute_result",
          "data": {
            "text/html": [
              "<div>\n",
              "<style scoped>\n",
              "    .dataframe tbody tr th:only-of-type {\n",
              "        vertical-align: middle;\n",
              "    }\n",
              "\n",
              "    .dataframe tbody tr th {\n",
              "        vertical-align: top;\n",
              "    }\n",
              "\n",
              "    .dataframe thead th {\n",
              "        text-align: right;\n",
              "    }\n",
              "</style>\n",
              "<table border=\"1\" class=\"dataframe\">\n",
              "  <thead>\n",
              "    <tr style=\"text-align: right;\">\n",
              "      <th></th>\n",
              "      <th>0</th>\n",
              "      <th>1</th>\n",
              "      <th>2</th>\n",
              "      <th>3</th>\n",
              "    </tr>\n",
              "  </thead>\n",
              "  <tbody>\n",
              "    <tr>\n",
              "      <th>0</th>\n",
              "      <td>It's battery life is great. It's very responsi...</td>\n",
              "      <td>([(issue, 0.05847430649687963), (black, -0.125...</td>\n",
              "      <td>([(issue, 0.125), (black, -0.375), (several, -...</td>\n",
              "      <td>3</td>\n",
              "    </tr>\n",
              "    <tr>\n",
              "      <th>1</th>\n",
              "      <td>as described, fast ship!</td>\n",
              "      <td>([], 0)</td>\n",
              "      <td>([], 0)</td>\n",
              "      <td>5</td>\n",
              "    </tr>\n",
              "    <tr>\n",
              "      <th>2</th>\n",
              "      <td>Perfect in every way.</td>\n",
              "      <td>([], 0)</td>\n",
              "      <td>([], 0)</td>\n",
              "      <td>5</td>\n",
              "    </tr>\n",
              "    <tr>\n",
              "      <th>3</th>\n",
              "      <td>This phone came in great condition! Great pric...</td>\n",
              "      <td>([], 0)</td>\n",
              "      <td>([], 0)</td>\n",
              "      <td>5</td>\n",
              "    </tr>\n",
              "    <tr>\n",
              "      <th>4</th>\n",
              "      <td>excellent</td>\n",
              "      <td>([], 0)</td>\n",
              "      <td>([], 0)</td>\n",
              "      <td>5</td>\n",
              "    </tr>\n",
              "  </tbody>\n",
              "</table>\n",
              "</div>"
            ],
            "text/plain": [
              "                                                   0  ...  3\n",
              "0  It's battery life is great. It's very responsi...  ...  3\n",
              "1                           as described, fast ship!  ...  5\n",
              "2                              Perfect in every way.  ...  5\n",
              "3  This phone came in great condition! Great pric...  ...  5\n",
              "4                                          excellent  ...  5\n",
              "\n",
              "[5 rows x 4 columns]"
            ]
          },
          "metadata": {
            "tags": []
          },
          "execution_count": 188
        }
      ]
    },
    {
      "cell_type": "code",
      "metadata": {
        "id": "pKGkio0r2SeA"
      },
      "source": [
        "interDF.to_csv('Mismatchs.csv')"
      ],
      "execution_count": null,
      "outputs": []
    },
    {
      "cell_type": "code",
      "metadata": {
        "id": "1-hv3xDj2ctt"
      },
      "source": [
        "# def evaluate2(str):\n",
        "#   str= word_tokenize(str)\n",
        "#   ret=[]\n",
        "#   if \"not\" in str or \"n't\" in str:\n",
        "#     return False\n",
        "#   str=pos_tag(str);\n",
        "#   for word,tag in str:\n",
        "#     if (word!=\"br\" and word.isalpha() and (word.lower() not in stop_words)):\n",
        "#       if tag.startswith('NN'):\n",
        "#         pos = 'n'\n",
        "#       elif tag.startswith('VB'):\n",
        "#         pos = 'v'\n",
        "#       elif tag.startswith('J'):\n",
        "#         pos='a'\n",
        "#       else : continue\n",
        "#       #print(word)\n",
        "#       t=getLexiScore(lemmatizer.lemmatize(word.lower(), pos))\n",
        "#       if t: ret.append(t)\n",
        "#   return ret\n",
        "# print(evaluate2(li[35]))\n",
        "# getMinDistSum(evaluate2(li[35]))\n"
      ],
      "execution_count": null,
      "outputs": []
    },
    {
      "cell_type": "code",
      "metadata": {
        "id": "lZAb4omR2w-D"
      },
      "source": [
        "totDF=pd.DataFrame(res)\n",
        "totDF.to_csv('res.csv')"
      ],
      "execution_count": null,
      "outputs": []
    },
    {
      "cell_type": "code",
      "metadata": {
        "id": "270DPdX-48IS"
      },
      "source": [
        "filtered=interDF[interDF[1] != ([],0)]"
      ],
      "execution_count": null,
      "outputs": []
    },
    {
      "cell_type": "code",
      "metadata": {
        "colab": {
          "base_uri": "https://localhost:8080/",
          "height": 204
        },
        "id": "V4a2LLr4MQQQ",
        "outputId": "cc964a35-4aa2-4795-ce77-e420ffb9dee5"
      },
      "source": [
        "filtered.head()"
      ],
      "execution_count": null,
      "outputs": [
        {
          "output_type": "execute_result",
          "data": {
            "text/html": [
              "<div>\n",
              "<style scoped>\n",
              "    .dataframe tbody tr th:only-of-type {\n",
              "        vertical-align: middle;\n",
              "    }\n",
              "\n",
              "    .dataframe tbody tr th {\n",
              "        vertical-align: top;\n",
              "    }\n",
              "\n",
              "    .dataframe thead th {\n",
              "        text-align: right;\n",
              "    }\n",
              "</style>\n",
              "<table border=\"1\" class=\"dataframe\">\n",
              "  <thead>\n",
              "    <tr style=\"text-align: right;\">\n",
              "      <th></th>\n",
              "      <th>0</th>\n",
              "      <th>1</th>\n",
              "      <th>2</th>\n",
              "      <th>3</th>\n",
              "    </tr>\n",
              "  </thead>\n",
              "  <tbody>\n",
              "    <tr>\n",
              "      <th>0</th>\n",
              "      <td>It's battery life is great. It's very responsi...</td>\n",
              "      <td>([(issue, 0.05847430649687963), (black, -0.125...</td>\n",
              "      <td>([(issue, 0.125), (black, -0.375), (several, -...</td>\n",
              "      <td>3</td>\n",
              "    </tr>\n",
              "    <tr>\n",
              "      <th>20</th>\n",
              "      <td>Phone works great, you may have to get a sum c...</td>\n",
              "      <td>([(get, 0.08728428872216379), (micro, -0.06376...</td>\n",
              "      <td>([(get, 0.125), (micro, -0.25)], -0.125)</td>\n",
              "      <td>4</td>\n",
              "    </tr>\n",
              "    <tr>\n",
              "      <th>22</th>\n",
              "      <td>my autistic son is in his glory lol thank you ...</td>\n",
              "      <td>([(autistic, -0.012012857140949955), (glory, 0...</td>\n",
              "      <td>([(autistic, -0.75), (glory, 0.25)], -0.5)</td>\n",
              "      <td>5</td>\n",
              "    </tr>\n",
              "    <tr>\n",
              "      <th>25</th>\n",
              "      <td>More complicated than I expected. Terrible rec...</td>\n",
              "      <td>([(complicated, -0.21476260947696374), (expect...</td>\n",
              "      <td>([(complicated, -0.625), (expected, 0.25), (te...</td>\n",
              "      <td>1</td>\n",
              "    </tr>\n",
              "    <tr>\n",
              "      <th>26</th>\n",
              "      <td>phone reception poor with incoming calls</td>\n",
              "      <td>([(reception, 0.1964319623933893), (poor, -0.1...</td>\n",
              "      <td>([(reception, 0.5), (poor, -0.875)], -0.375)</td>\n",
              "      <td>1</td>\n",
              "    </tr>\n",
              "  </tbody>\n",
              "</table>\n",
              "</div>"
            ],
            "text/plain": [
              "                                                    0  ...  3\n",
              "0   It's battery life is great. It's very responsi...  ...  3\n",
              "20  Phone works great, you may have to get a sum c...  ...  4\n",
              "22  my autistic son is in his glory lol thank you ...  ...  5\n",
              "25  More complicated than I expected. Terrible rec...  ...  1\n",
              "26           phone reception poor with incoming calls  ...  1\n",
              "\n",
              "[5 rows x 4 columns]"
            ]
          },
          "metadata": {
            "tags": []
          },
          "execution_count": 193
        }
      ]
    },
    {
      "cell_type": "code",
      "metadata": {
        "id": "6-7yxbamMSOB"
      },
      "source": [
        "templi=list(filtered.values)"
      ],
      "execution_count": null,
      "outputs": []
    },
    {
      "cell_type": "code",
      "metadata": {
        "colab": {
          "base_uri": "https://localhost:8080/"
        },
        "id": "Qj7z_xvKMtM1",
        "outputId": "3edde4d0-4ae3-4819-ea3b-6cf583a4fb8f"
      },
      "source": [
        "len(templi)"
      ],
      "execution_count": null,
      "outputs": [
        {
          "output_type": "execute_result",
          "data": {
            "text/plain": [
              "6070"
            ]
          },
          "metadata": {
            "tags": []
          },
          "execution_count": 195
        }
      ]
    },
    {
      "cell_type": "code",
      "metadata": {
        "colab": {
          "base_uri": "https://localhost:8080/"
        },
        "id": "vofRBRfUM96W",
        "outputId": "dfa0d025-747b-499f-b1b6-1669502897a8"
      },
      "source": [
        "templi[0][1]"
      ],
      "execution_count": null,
      "outputs": [
        {
          "output_type": "execute_result",
          "data": {
            "text/plain": [
              "([('issue', 0.05847430649687963),\n",
              "  ('black', -0.12545547852196717),\n",
              "  ('several', -0.261077494062399),\n",
              "  ('times', 0.25004496640879337),\n",
              "  ('get', 0.08728428872216379)],\n",
              " 0.009270589043470584)"
            ]
          },
          "metadata": {
            "tags": []
          },
          "execution_count": 196
        }
      ]
    },
    {
      "cell_type": "code",
      "metadata": {
        "id": "MYd99uqNNLR_"
      },
      "source": [
        "success=[]\n",
        "failure=[]"
      ],
      "execution_count": null,
      "outputs": []
    },
    {
      "cell_type": "code",
      "metadata": {
        "id": "sTDVKp_ZRThx"
      },
      "source": [
        ""
      ],
      "execution_count": null,
      "outputs": []
    },
    {
      "cell_type": "code",
      "metadata": {
        "id": "ofpQpVzJNWDk"
      },
      "source": [
        "for i in range(len(templi)):\n",
        "  #print(i,templi[i],templi[i][1][0],templi[i][3]-3)\n",
        "  if templi[i][1][1]*(templi[i][3]-3)>0:\n",
        "    success.append(templi[i])\n",
        "  elif templi[i][1][1]*(templi[i][3]-3)<0:\n",
        "    failure.append(templi[i])"
      ],
      "execution_count": null,
      "outputs": []
    },
    {
      "cell_type": "code",
      "metadata": {
        "colab": {
          "base_uri": "https://localhost:8080/"
        },
        "id": "cTxyL9aNNne1",
        "outputId": "e12b57b5-66c0-497a-8d57-4ba3c2423dff"
      },
      "source": [
        "len(success)"
      ],
      "execution_count": null,
      "outputs": [
        {
          "output_type": "execute_result",
          "data": {
            "text/plain": [
              "2290"
            ]
          },
          "metadata": {
            "tags": []
          },
          "execution_count": 199
        }
      ]
    },
    {
      "cell_type": "code",
      "metadata": {
        "colab": {
          "base_uri": "https://localhost:8080/"
        },
        "id": "oOGmwoAjO3a6",
        "outputId": "3d289d67-cf32-4c71-ea96-012a9fe74b17"
      },
      "source": [
        "len(failure)"
      ],
      "execution_count": null,
      "outputs": [
        {
          "output_type": "execute_result",
          "data": {
            "text/plain": [
              "3187"
            ]
          },
          "metadata": {
            "tags": []
          },
          "execution_count": 200
        }
      ]
    },
    {
      "cell_type": "code",
      "metadata": {
        "id": "jWXil6IOO5bR"
      },
      "source": [
        "sucDF=pd.DataFrame(success)"
      ],
      "execution_count": null,
      "outputs": []
    },
    {
      "cell_type": "code",
      "metadata": {
        "id": "mBu_F7NuO_0q"
      },
      "source": [
        "sucDF.to_csv('success.csv')"
      ],
      "execution_count": null,
      "outputs": []
    },
    {
      "cell_type": "code",
      "metadata": {
        "id": "rSdbGqjyPCO3"
      },
      "source": [
        "negDF=pd.DataFrame(failure)\n",
        "negDF.to_csv('failures.csv')"
      ],
      "execution_count": null,
      "outputs": []
    },
    {
      "cell_type": "code",
      "metadata": {
        "id": "K9a9K9dkPcCF",
        "colab": {
          "base_uri": "https://localhost:8080/"
        },
        "outputId": "37402173-5f46-40ab-a8e0-495632be1615"
      },
      "source": [
        "negDF.head"
      ],
      "execution_count": null,
      "outputs": [
        {
          "output_type": "execute_result",
          "data": {
            "text/plain": [
              "<bound method NDFrame.head of                                                       0  ...  3\n",
              "0     More complicated than I expected. Terrible rec...  ...  1\n",
              "1              phone reception poor with incoming calls  ...  1\n",
              "2                                Good basic smart phone  ...  5\n",
              "3     IF IS A SMARTPHONE EXCELLENT dig a little, IN ...  ...  4\n",
              "4     Good Performance, Touchscreen and Display OKGo...  ...  5\n",
              "...                                                 ...  ... ..\n",
              "3182  i love those phones.I bought two of them as a ...  ...  5\n",
              "3183  Have had several of these phones over the year...  ...  5\n",
              "3184  My son enjoys the flip phone...it works great ...  ...  4\n",
              "3185  Bought this phone for my husband to replace an...  ...  5\n",
              "3186  This is a great little phone - very sturdy. My...  ...  5\n",
              "\n",
              "[3187 rows x 4 columns]>"
            ]
          },
          "metadata": {
            "tags": []
          },
          "execution_count": 204
        }
      ]
    },
    {
      "cell_type": "code",
      "metadata": {
        "colab": {
          "base_uri": "https://localhost:8080/"
        },
        "id": "HuL5kF4mnyDu",
        "outputId": "2e813a4a-a5b3-44bc-c4f7-bc7babfce9c8"
      },
      "source": [
        "evaluate1(\"all very well and fast, and all this and that is described in the publication recommended for future purchases recommended 100%\")"
      ],
      "execution_count": null,
      "outputs": [
        {
          "output_type": "execute_result",
          "data": {
            "text/plain": [
              "([('well', 0.17937370829383192),\n",
              "  ('recommended', -0.02997221230267179),\n",
              "  ('recommended', -0.02997221230267179)],\n",
              " 0.11942928368848836)"
            ]
          },
          "metadata": {
            "tags": []
          },
          "execution_count": 139
        }
      ]
    },
    {
      "cell_type": "code",
      "metadata": {
        "colab": {
          "base_uri": "https://localhost:8080/"
        },
        "id": "QtBsL0XQogUq",
        "outputId": "406cc289-6301-40cd-8962-48303d50dd8a"
      },
      "source": [
        "getSWNscore(\"all very well and fast, and all this and that is described in the publication recommended for future purchases recommended 100%\")"
      ],
      "execution_count": null,
      "outputs": [
        {
          "output_type": "execute_result",
          "data": {
            "text/plain": [
              "([('well', 0.375),\n",
              "  ('is', 0.25),\n",
              "  ('recommended', -0.125),\n",
              "  ('recommended', -0.125)],\n",
              " 0.375)"
            ]
          },
          "metadata": {
            "tags": []
          },
          "execution_count": 113
        }
      ]
    },
    {
      "cell_type": "code",
      "metadata": {
        "colab": {
          "base_uri": "https://localhost:8080/"
        },
        "id": "OhAqor-5pdEm",
        "outputId": "fb690258-82dd-4da2-c934-d38e91dd03a8"
      },
      "source": [
        "getSWNscore('like')"
      ],
      "execution_count": null,
      "outputs": [
        {
          "output_type": "stream",
          "text": [
            "('like', 'IN') 0.0 0.25\n"
          ],
          "name": "stdout"
        },
        {
          "output_type": "execute_result",
          "data": {
            "text/plain": [
              "-0.25"
            ]
          },
          "metadata": {
            "tags": []
          },
          "execution_count": 58
        }
      ]
    },
    {
      "cell_type": "code",
      "metadata": {
        "colab": {
          "base_uri": "https://localhost:8080/"
        },
        "id": "X2TVyWKPpxY3",
        "outputId": "98e82747-eb3f-4394-e534-64f4d32d2f78"
      },
      "source": [
        "glove_vectors.similarity('phone','cheap')"
      ],
      "execution_count": null,
      "outputs": [
        {
          "output_type": "execute_result",
          "data": {
            "text/plain": [
              "0.3304398"
            ]
          },
          "metadata": {
            "tags": []
          },
          "execution_count": 132
        }
      ]
    },
    {
      "cell_type": "code",
      "metadata": {
        "id": "bSPzhKBHqEYY"
      },
      "source": [
        ""
      ],
      "execution_count": null,
      "outputs": []
    },
    {
      "cell_type": "markdown",
      "metadata": {
        "id": "ODXS09oo1mj_"
      },
      "source": [
        "#ROUGH WORK"
      ]
    },
    {
      "cell_type": "code",
      "metadata": {
        "id": "aMRQlJc71o2T"
      },
      "source": [
        "def getSWNscore2(word,tag):\n",
        "  print(word,tag)\n",
        "  try:\n",
        "    p=swn.senti_synset(word+'.'+retpos(tag).lower()+'.01').pos_score()\n",
        "    n=swn.senti_synset(word+'.'+retpos(tag).lower()+'.01').neg_score()\n",
        "  except:\n",
        "    p=0\n",
        "    n=0\n",
        "  if p==0 and n==0: return getscore(word)\n",
        "  \n",
        "  if p>=n: return p\n",
        "  else : return -n\n",
        "\n",
        "def getLexiScore(word,tag):\n",
        "  theta=np.pi*getSWNscore2(word,tag)/2\n",
        "  r=0\n",
        "  try:\n",
        "    r=abs(glove_vectors.similarity('phone',word));\n",
        "  except:\n",
        "    r=0\n",
        "\n",
        "  if (theta==0 or r==0): return False\n",
        " # print(word,theta,r);\n",
        "  return (r*math.cos(theta),r*math.sin(theta))\n",
        "\n",
        "def evaluate1(str):\n",
        "  str=str.lower()\n",
        "  text = str\n",
        "  str= word_tokenize(str)\n",
        "  print(str)\n",
        "  ret=[]\n",
        "  regex1 = \"no|never|nothing|nowhere|noone|none|not|havent|hasnt|hadnt|cant|couldnt|shouldnt|wont|wouldnt|dont|doesnt|didnt|isnt|arent|aint|n't\"\n",
        "  regex1=regex1.split(\"|\")\n",
        "  #print(regex1)\n",
        "  for i in regex1:\n",
        "    if(text.find(i)!=-1) :return False\n",
        "  str=pos_tag(str);\n",
        "  print(str)\n",
        "  sentiment=0\n",
        "  for word,tag in str:\n",
        "    if (word!=\"br\" and word.isalpha() and (word.lower() not in stop_words)):\n",
        "      if tag.startswith('NN'):\n",
        "        pos = 'n'\n",
        "      elif tag.startswith('VB'):\n",
        "        pos = 'v'\n",
        "      elif tag.startswith('J'):\n",
        "        pos='a'\n",
        "      else : continue\n",
        "      #print(word)\n",
        "      #t=getLexiScore(lemmatizer.lemmatize(word.lower(), pos))\n",
        "      t=getLexiScore(word,tag)\n",
        "      \n",
        "      if t: \n",
        "        ret.append(t)\n",
        "        sentiment+=t[1]\n",
        "      print(word,t)\n",
        "  return sentiment # return getMinDistSum(ret)\n",
        "def getscore(str):\n",
        "    ret=0\n",
        "    try: \n",
        "      ret=float(sn.polarity_value(str))\n",
        "    except:\n",
        "      ret=0\n",
        "    return (ret)\n",
        "\n",
        "def getSWNscore(str):\n",
        "    str=str.lower()\n",
        "    tagg=pos_tag(word_tokenize(str))\n",
        "    #print(tagg)\n",
        "    ansP=0\n",
        "    ansN=0\n",
        "    for i in tagg:\n",
        "      p=0\n",
        "      n=0\n",
        "      try:\n",
        "        p+=swn.senti_synset(i[0]+'.'+retpos(i[1]).lower()+'.01').pos_score()\n",
        "        n+=swn.senti_synset(i[0]+'.'+retpos(i[1]).lower()+'.01').neg_score()\n",
        "      except:\n",
        "        p=0\n",
        "      if p==0 and n==0:\n",
        "        scr=getscore(i[0]);\n",
        "        #print(scr)\n",
        "        if scr>0: p+=scr\n",
        "        else: n-=scr\n",
        "      if(p+n!=0):\n",
        "        print(i[0],p-n)\n",
        "      ansP+=p\n",
        "      ansN+=n \n",
        "    if ansP==0 and ansN==0: return getscore(str)\n",
        "      #ansP+=getscore(i[0])\n",
        "      #print(i[0],getscore(i[0]))\n",
        "    #return ansP\n",
        "    if ansP>=ansN: return ansP\n",
        "    else : return -ansN\n",
        "    #return (ansP,ansN)"
      ],
      "execution_count": null,
      "outputs": []
    },
    {
      "cell_type": "code",
      "metadata": {
        "colab": {
          "base_uri": "https://localhost:8080/"
        },
        "id": "-5qDEhC31ysJ",
        "outputId": "b2af2203-02bf-45c3-c58f-b488c03f3324"
      },
      "source": [
        "evaluate1(\"\"\"It came quickly and the phone looks like its brand new. My only issue is that it does some weird things whenI try to use it while its charging. Other than that it works perfectly!\"\"\")"
      ],
      "execution_count": null,
      "outputs": [
        {
          "output_type": "stream",
          "text": [
            "['it', 'came', 'quickly', 'and', 'the', 'phone', 'looks', 'like', 'its', 'brand', 'new', '.', 'my', 'only', 'issue', 'is', 'that', 'it', 'does', 'some', 'weird', 'things', 'wheni', 'try', 'to', 'use', 'it', 'while', 'its', 'charging', '.', 'other', 'than', 'that', 'it', 'works', 'perfectly', '!']\n",
            "[('it', 'PRP'), ('came', 'VBD'), ('quickly', 'RB'), ('and', 'CC'), ('the', 'DT'), ('phone', 'NN'), ('looks', 'VBZ'), ('like', 'IN'), ('its', 'PRP$'), ('brand', 'NN'), ('new', 'JJ'), ('.', '.'), ('my', 'PRP$'), ('only', 'JJ'), ('issue', 'NN'), ('is', 'VBZ'), ('that', 'IN'), ('it', 'PRP'), ('does', 'VBZ'), ('some', 'DT'), ('weird', 'JJ'), ('things', 'NNS'), ('wheni', 'VBP'), ('try', 'NN'), ('to', 'TO'), ('use', 'VB'), ('it', 'PRP'), ('while', 'IN'), ('its', 'PRP$'), ('charging', 'NN'), ('.', '.'), ('other', 'JJ'), ('than', 'IN'), ('that', 'IN'), ('it', 'PRP'), ('works', 'VBZ'), ('perfectly', 'RB'), ('!', '.')]\n",
            "came VBD\n",
            "came False\n",
            "phone NN\n",
            "phone False\n",
            "looks VBZ\n",
            "looks False\n",
            "brand NN\n",
            "brand False\n",
            "new JJ\n",
            "new (0.2972619724065873, 0.1986240998278377)\n",
            "issue NN\n",
            "issue (0.2939702195561132, 0.058474312311024304)\n",
            "weird JJ\n",
            "weird (0.0653748757527134, -0.15782891168065669)\n",
            "things NNS\n",
            "things False\n",
            "wheni VBP\n",
            "wheni False\n",
            "try NN\n",
            "try False\n",
            "use VB\n",
            "use False\n",
            "charging NN\n",
            "charging (0.21175666501490406, -0.33367511173133363)\n",
            "works VBZ\n",
            "works (0.040028404012918135, 0.2527293964665864)\n"
          ],
          "name": "stdout"
        },
        {
          "output_type": "execute_result",
          "data": {
            "text/plain": [
              "0.018323785193458092"
            ]
          },
          "metadata": {
            "tags": []
          },
          "execution_count": 552
        }
      ]
    },
    {
      "cell_type": "code",
      "metadata": {
        "colab": {
          "base_uri": "https://localhost:8080/"
        },
        "id": "hXAaCO4re4zn",
        "outputId": "ac731192-1c96-406e-872a-21397c6c3327"
      },
      "source": [
        "getSWNscore(\"\"\"It came quickly and the phone looks like its brand new. My only issue is that it does some weird things whenI try to use it while its charging. Other than that it works perfectly!.\"\"\")"
      ],
      "execution_count": null,
      "outputs": [
        {
          "output_type": "stream",
          "text": [
            "quickly -0.64\n",
            "like -0.25\n",
            "new 0.375\n",
            "issue 0.125\n",
            "weird -0.75\n",
            "charging -0.64\n",
            "other -0.625\n",
            "works 0.9\n",
            "perfectly 0.5\n"
          ],
          "name": "stdout"
        },
        {
          "output_type": "execute_result",
          "data": {
            "text/plain": [
              "-2.9050000000000002"
            ]
          },
          "metadata": {
            "tags": []
          },
          "execution_count": 553
        }
      ]
    },
    {
      "cell_type": "code",
      "metadata": {
        "colab": {
          "base_uri": "https://localhost:8080/"
        },
        "id": "H0SDNCmF13Ew",
        "outputId": "3d6641f7-ddd7-47bc-8c20-baa8b5f81284"
      },
      "source": [
        "getSWNscore(\"100% satisfied\")"
      ],
      "execution_count": null,
      "outputs": [
        {
          "output_type": "stream",
          "text": [
            "[('100', 'CD'), ('%', 'NN'), ('satisfied', 'VBD')]\n"
          ],
          "name": "stdout"
        },
        {
          "output_type": "execute_result",
          "data": {
            "text/plain": [
              "0"
            ]
          },
          "metadata": {
            "tags": []
          },
          "execution_count": 297
        }
      ]
    },
    {
      "cell_type": "code",
      "metadata": {
        "colab": {
          "base_uri": "https://localhost:8080/"
        },
        "id": "XdGyuNRJ1_QO",
        "outputId": "029ed84d-9524-413e-b598-8a9904f22cec"
      },
      "source": [
        "evaluate1('This phone is terrible. International model runs on 2g (T-Mobile) and the screen went dead a week after receiving it.')"
      ],
      "execution_count": null,
      "outputs": [
        {
          "output_type": "stream",
          "text": [
            "lexi phone 0.0 1.0\n",
            "lexi terrible -0.9817477042468103 0.5982422530651093\n",
            "lexi terrible -0.9817477042468103 0.5982422530651093\n",
            "lexi international -0.7853981633974483 0.6078873500227928\n",
            "lexi international -0.7853981633974483 0.6078873500227928\n",
            "lexi model 1.2849113953182254 0.6080478429794312\n",
            "lexi model 1.2849113953182254 0.6080478429794312\n",
            "lexi runs 0.0 0.6225761994719505\n",
            "lexi screen 0.0 0.6904341876506805\n",
            "lexi went 0.0 0.6883260756731033\n",
            "lexi dead -1.1780972450961724 0.6394045650959015\n",
            "lexi dead -1.1780972450961724 0.6394045650959015\n",
            "lexi week 0.0 0.7071676552295685\n",
            "lexi receiving 1.413716694115407 0.704303503036499\n",
            "lexi receiving 1.413716694115407 0.704303503036499\n",
            "[(0.3323655879375546, -0.49742025421904756), (0.4298412673986372, -0.42984126739863715), (0.17147349018208893, 0.583368684038415), (0.2446895336408071, -0.5907327906863841), (0.11017734172347537, 0.6956323581894623)]\n"
          ],
          "name": "stdout"
        },
        {
          "output_type": "execute_result",
          "data": {
            "text/plain": [
              "((0.34215492952043924, -0.42056495556050416), 'NEG')"
            ]
          },
          "metadata": {
            "tags": []
          },
          "execution_count": 286
        }
      ]
    },
    {
      "cell_type": "code",
      "metadata": {
        "colab": {
          "base_uri": "https://localhost:8080/"
        },
        "id": "_Ym-yCUlABh2",
        "outputId": "aed173c3-55c9-4bda-a861-73c766caaff0"
      },
      "source": [
        "getSWNscore('dead')"
      ],
      "execution_count": null,
      "outputs": [
        {
          "output_type": "execute_result",
          "data": {
            "text/plain": [
              "0.0"
            ]
          },
          "metadata": {
            "tags": []
          },
          "execution_count": 282
        }
      ]
    },
    {
      "cell_type": "code",
      "metadata": {
        "id": "9h8hhHDLdFTu"
      },
      "source": [
        ""
      ],
      "execution_count": null,
      "outputs": []
    },
    {
      "cell_type": "code",
      "metadata": {
        "colab": {
          "base_uri": "https://localhost:8080/"
        },
        "id": "CWUtGjVTB3qe",
        "outputId": "980fdb71-8440-4d70-dc3e-083ddba5fa35"
      },
      "source": [
        "np.pi*0.875"
      ],
      "execution_count": null,
      "outputs": [
        {
          "output_type": "execute_result",
          "data": {
            "text/plain": [
              "2.748893571891069"
            ]
          },
          "metadata": {
            "tags": []
          },
          "execution_count": 149
        }
      ]
    },
    {
      "cell_type": "code",
      "metadata": {
        "colab": {
          "base_uri": "https://localhost:8080/"
        },
        "id": "XPlPcenbB6O4",
        "outputId": "3a8e4a43-b062-435a-8377-bf00b456d27f"
      },
      "source": [
        "np.pi/2"
      ],
      "execution_count": null,
      "outputs": [
        {
          "output_type": "execute_result",
          "data": {
            "text/plain": [
              "1.5707963267948966"
            ]
          },
          "metadata": {
            "tags": []
          },
          "execution_count": 269
        }
      ]
    },
    {
      "cell_type": "code",
      "metadata": {
        "colab": {
          "base_uri": "https://localhost:8080/"
        },
        "id": "OtZbEiC1B7Z4",
        "outputId": "81fc828e-9557-4bf3-dda5-e355eb00c80d"
      },
      "source": [
        "glove_vectors.similarity('phone','perfectly')"
      ],
      "execution_count": null,
      "outputs": [
        {
          "output_type": "execute_result",
          "data": {
            "text/plain": [
              "0.10353342"
            ]
          },
          "metadata": {
            "tags": []
          },
          "execution_count": 538
        }
      ]
    },
    {
      "cell_type": "code",
      "metadata": {
        "id": "c16kBW9Qbj28"
      },
      "source": [
        "\n",
        "from nltk.stem import WordNetLemmatizer\n",
        "from nltk.corpus import wordnet as wn\n",
        "from nltk.corpus import sentiwordnet as swn\n",
        "from nltk import sent_tokenize, word_tokenize, pos_tag\n",
        " \n",
        " \n",
        "lemmatizer = WordNetLemmatizer()\n",
        " \n",
        " \n",
        "def penn_to_wn(tag):\n",
        "    \"\"\"\n",
        "    Convert between the PennTreebank tags to simple Wordnet tags\n",
        "    \"\"\"\n",
        "    if tag.startswith('J'):\n",
        "        return wn.ADJ\n",
        "    elif tag.startswith('N'):\n",
        "        return wn.NOUN\n",
        "    elif tag.startswith('R'):\n",
        "        return wn.ADV\n",
        "    elif tag.startswith('V'):\n",
        "        return wn.VERB\n",
        "    return None\n",
        " \n",
        " \n",
        "def clean_text(text):\n",
        "    text = text.replace(\"<br />\", \" \")\n",
        "    #text = text.decode(\"utf-8\")\n",
        " \n",
        "    return text\n",
        " \n",
        " \n",
        "def swn_polarity(text):\n",
        "    \"\"\"\n",
        "    Return a sentiment polarity: 0 = negative, 1 = positive\n",
        "    \"\"\"\n",
        " \n",
        "    sentiment = 0.0\n",
        "    tokens_count = 0\n",
        " \n",
        "    text = clean_text(text)\n",
        " \n",
        " \n",
        "    raw_sentences = sent_tokenize(text)\n",
        "    print(raw_sentences)\n",
        "    for raw_sentence in raw_sentences:\n",
        "        tagged_sentence = pos_tag(word_tokenize(raw_sentence))\n",
        "        print(tagged_sentence)\n",
        "        for word, tag in tagged_sentence:\n",
        "            wn_tag = penn_to_wn(tag)\n",
        "            if wn_tag not in (wn.NOUN, wn.ADJ, wn.ADV):\n",
        "                continue\n",
        " \n",
        "            lemma = lemmatizer.lemmatize(word, pos=wn_tag)\n",
        "            if not lemma:\n",
        "                continue\n",
        " \n",
        "            synsets = wn.synsets(lemma, pos=wn_tag)\n",
        "            if not synsets:\n",
        "                continue\n",
        " \n",
        "            # Take the first sense, the most common\n",
        "            synset = synsets[0]\n",
        "            swn_synset = swn.senti_synset(synset.name())\n",
        " \n",
        "            sentiment += swn_synset.pos_score() - swn_synset.neg_score()\n",
        "            tokens_count += 1\n",
        " \n",
        "    # judgment call ? Default to positive or negative\n",
        "    return sentiment"
      ],
      "execution_count": null,
      "outputs": []
    },
    {
      "cell_type": "code",
      "metadata": {
        "colab": {
          "base_uri": "https://localhost:8080/"
        },
        "id": "3oM7TqLEgE5U",
        "outputId": "f92e3ba3-1659-45d3-e05c-053d74b1129d"
      },
      "source": [
        "swn_polarityliked it.')"
      ],
      "execution_count": null,
      "outputs": [
        {
          "output_type": "stream",
          "text": [
            "['amazing,liked it.']\n",
            "[('amazing', 'NN'), (',', ','), ('liked', 'VBD'), ('it', 'PRP'), ('.', '.')]\n"
          ],
          "name": "stdout"
        },
        {
          "output_type": "execute_result",
          "data": {
            "text/plain": [
              "0.0"
            ]
          },
          "metadata": {
            "tags": []
          },
          "execution_count": 512
        }
      ]
    },
    {
      "cell_type": "code",
      "metadata": {
        "id": "f6i4BJ5_gSXz",
        "colab": {
          "base_uri": "https://localhost:8080/"
        },
        "outputId": "72cb90a7-170f-4c67-c37f-d28b885bb6ec"
      },
      "source": [
        "preprocess('Screen freezes a lot but other than that i like it')"
      ],
      "execution_count": null,
      "outputs": [
        {
          "output_type": "execute_result",
          "data": {
            "text/plain": [
              "[('screen', 'NNP'), ('freeze', 'VBZ'), ('lot', 'NN'), ('like', 'IN')]"
            ]
          },
          "metadata": {
            "tags": []
          },
          "execution_count": 518
        }
      ]
    },
    {
      "cell_type": "code",
      "metadata": {
        "colab": {
          "base_uri": "https://localhost:8080/"
        },
        "id": "gaDD4irSJGCo",
        "outputId": "45c0403e-5c7c-4edf-8f24-a299ff7f5556"
      },
      "source": [
        "getSWNscore2('like','IN')"
      ],
      "execution_count": null,
      "outputs": [
        {
          "output_type": "execute_result",
          "data": {
            "text/plain": [
              "-0.25"
            ]
          },
          "metadata": {
            "tags": []
          },
          "execution_count": 519
        }
      ]
    },
    {
      "cell_type": "code",
      "metadata": {
        "colab": {
          "base_uri": "https://localhost:8080/"
        },
        "id": "hfLWL-ohJMRk",
        "outputId": "96566fe6-a161-4459-90f5-978d874f1ffc"
      },
      "source": [
        "getSWNscore('It was scratched')"
      ],
      "execution_count": null,
      "outputs": [
        {
          "output_type": "stream",
          "text": [
            "('it', 'PRP') 0 0\n",
            "('was', 'VBD') 0 0\n",
            "('scratched', 'VBN') 0 0\n"
          ],
          "name": "stdout"
        },
        {
          "output_type": "execute_result",
          "data": {
            "text/plain": [
              "0"
            ]
          },
          "metadata": {
            "tags": []
          },
          "execution_count": 482
        }
      ]
    },
    {
      "cell_type": "code",
      "metadata": {
        "colab": {
          "base_uri": "https://localhost:8080/",
          "height": 425
        },
        "id": "XKKQo2q5JXiI",
        "outputId": "d8e9100d-904f-4282-ddef-0d774301bc84"
      },
      "source": [
        "swn.senti_synset('scrath'+'.'+retpos('NNS')+'.03')"
      ],
      "execution_count": null,
      "outputs": [
        {
          "output_type": "error",
          "ename": "WordNetError",
          "evalue": "ignored",
          "traceback": [
            "\u001b[0;31m---------------------------------------------------------------------------\u001b[0m",
            "\u001b[0;31mKeyError\u001b[0m                                  Traceback (most recent call last)",
            "\u001b[0;32m/usr/local/lib/python3.6/dist-packages/nltk/corpus/reader/wordnet.py\u001b[0m in \u001b[0;36msynset\u001b[0;34m(self, name)\u001b[0m\n\u001b[1;32m   1294\u001b[0m         \u001b[0;32mtry\u001b[0m\u001b[0;34m:\u001b[0m\u001b[0;34m\u001b[0m\u001b[0;34m\u001b[0m\u001b[0m\n\u001b[0;32m-> 1295\u001b[0;31m             \u001b[0moffset\u001b[0m \u001b[0;34m=\u001b[0m \u001b[0mself\u001b[0m\u001b[0;34m.\u001b[0m\u001b[0m_lemma_pos_offset_map\u001b[0m\u001b[0;34m[\u001b[0m\u001b[0mlemma\u001b[0m\u001b[0;34m]\u001b[0m\u001b[0;34m[\u001b[0m\u001b[0mpos\u001b[0m\u001b[0;34m]\u001b[0m\u001b[0;34m[\u001b[0m\u001b[0msynset_index\u001b[0m\u001b[0;34m]\u001b[0m\u001b[0;34m\u001b[0m\u001b[0;34m\u001b[0m\u001b[0m\n\u001b[0m\u001b[1;32m   1296\u001b[0m         \u001b[0;32mexcept\u001b[0m \u001b[0mKeyError\u001b[0m\u001b[0;34m:\u001b[0m\u001b[0;34m\u001b[0m\u001b[0;34m\u001b[0m\u001b[0m\n",
            "\u001b[0;31mKeyError\u001b[0m: 'n'",
            "\nDuring handling of the above exception, another exception occurred:\n",
            "\u001b[0;31mWordNetError\u001b[0m                              Traceback (most recent call last)",
            "\u001b[0;32m<ipython-input-487-f5af0f162d0a>\u001b[0m in \u001b[0;36m<module>\u001b[0;34m()\u001b[0m\n\u001b[0;32m----> 1\u001b[0;31m \u001b[0mswn\u001b[0m\u001b[0;34m.\u001b[0m\u001b[0msenti_synset\u001b[0m\u001b[0;34m(\u001b[0m\u001b[0;34m'scrath'\u001b[0m\u001b[0;34m+\u001b[0m\u001b[0;34m'.'\u001b[0m\u001b[0;34m+\u001b[0m\u001b[0mretpos\u001b[0m\u001b[0;34m(\u001b[0m\u001b[0;34m'NNS'\u001b[0m\u001b[0;34m)\u001b[0m\u001b[0;34m+\u001b[0m\u001b[0;34m'.03'\u001b[0m\u001b[0;34m)\u001b[0m\u001b[0;34m\u001b[0m\u001b[0;34m\u001b[0m\u001b[0m\n\u001b[0m",
            "\u001b[0;32m/usr/local/lib/python3.6/dist-packages/nltk/corpus/reader/sentiwordnet.py\u001b[0m in \u001b[0;36msenti_synset\u001b[0;34m(self, *vals)\u001b[0m\n\u001b[1;32m     78\u001b[0m             \u001b[0;32mreturn\u001b[0m \u001b[0mSentiSynset\u001b[0m\u001b[0;34m(\u001b[0m\u001b[0mpos_score\u001b[0m\u001b[0;34m,\u001b[0m \u001b[0mneg_score\u001b[0m\u001b[0;34m,\u001b[0m \u001b[0msynset\u001b[0m\u001b[0;34m)\u001b[0m\u001b[0;34m\u001b[0m\u001b[0;34m\u001b[0m\u001b[0m\n\u001b[1;32m     79\u001b[0m         \u001b[0;32melse\u001b[0m\u001b[0;34m:\u001b[0m\u001b[0;34m\u001b[0m\u001b[0;34m\u001b[0m\u001b[0m\n\u001b[0;32m---> 80\u001b[0;31m             \u001b[0msynset\u001b[0m \u001b[0;34m=\u001b[0m \u001b[0mwn\u001b[0m\u001b[0;34m.\u001b[0m\u001b[0msynset\u001b[0m\u001b[0;34m(\u001b[0m\u001b[0mvals\u001b[0m\u001b[0;34m[\u001b[0m\u001b[0;36m0\u001b[0m\u001b[0;34m]\u001b[0m\u001b[0;34m)\u001b[0m\u001b[0;34m\u001b[0m\u001b[0;34m\u001b[0m\u001b[0m\n\u001b[0m\u001b[1;32m     81\u001b[0m             \u001b[0mpos\u001b[0m \u001b[0;34m=\u001b[0m \u001b[0msynset\u001b[0m\u001b[0;34m.\u001b[0m\u001b[0mpos\u001b[0m\u001b[0;34m(\u001b[0m\u001b[0;34m)\u001b[0m\u001b[0;34m\u001b[0m\u001b[0;34m\u001b[0m\u001b[0m\n\u001b[1;32m     82\u001b[0m             \u001b[0;32mif\u001b[0m \u001b[0mpos\u001b[0m \u001b[0;34m==\u001b[0m \u001b[0;34m's'\u001b[0m\u001b[0;34m:\u001b[0m\u001b[0;34m\u001b[0m\u001b[0;34m\u001b[0m\u001b[0m\n",
            "\u001b[0;32m/usr/local/lib/python3.6/dist-packages/nltk/corpus/reader/wordnet.py\u001b[0m in \u001b[0;36msynset\u001b[0;34m(self, name)\u001b[0m\n\u001b[1;32m   1296\u001b[0m         \u001b[0;32mexcept\u001b[0m \u001b[0mKeyError\u001b[0m\u001b[0;34m:\u001b[0m\u001b[0;34m\u001b[0m\u001b[0;34m\u001b[0m\u001b[0m\n\u001b[1;32m   1297\u001b[0m             \u001b[0mmessage\u001b[0m \u001b[0;34m=\u001b[0m \u001b[0;34m'no lemma %r with part of speech %r'\u001b[0m\u001b[0;34m\u001b[0m\u001b[0;34m\u001b[0m\u001b[0m\n\u001b[0;32m-> 1298\u001b[0;31m             \u001b[0;32mraise\u001b[0m \u001b[0mWordNetError\u001b[0m\u001b[0;34m(\u001b[0m\u001b[0mmessage\u001b[0m \u001b[0;34m%\u001b[0m \u001b[0;34m(\u001b[0m\u001b[0mlemma\u001b[0m\u001b[0;34m,\u001b[0m \u001b[0mpos\u001b[0m\u001b[0;34m)\u001b[0m\u001b[0;34m)\u001b[0m\u001b[0;34m\u001b[0m\u001b[0;34m\u001b[0m\u001b[0m\n\u001b[0m\u001b[1;32m   1299\u001b[0m         \u001b[0;32mexcept\u001b[0m \u001b[0mIndexError\u001b[0m\u001b[0;34m:\u001b[0m\u001b[0;34m\u001b[0m\u001b[0;34m\u001b[0m\u001b[0m\n\u001b[1;32m   1300\u001b[0m             \u001b[0mn_senses\u001b[0m \u001b[0;34m=\u001b[0m \u001b[0mlen\u001b[0m\u001b[0;34m(\u001b[0m\u001b[0mself\u001b[0m\u001b[0;34m.\u001b[0m\u001b[0m_lemma_pos_offset_map\u001b[0m\u001b[0;34m[\u001b[0m\u001b[0mlemma\u001b[0m\u001b[0;34m]\u001b[0m\u001b[0;34m[\u001b[0m\u001b[0mpos\u001b[0m\u001b[0;34m]\u001b[0m\u001b[0;34m)\u001b[0m\u001b[0;34m\u001b[0m\u001b[0;34m\u001b[0m\u001b[0m\n",
            "\u001b[0;31mWordNetError\u001b[0m: no lemma 'scrath' with part of speech 'n'"
          ]
        }
      ]
    },
    {
      "cell_type": "code",
      "metadata": {
        "colab": {
          "base_uri": "https://localhost:8080/",
          "height": 35
        },
        "id": "3DCHsTJSKN8u",
        "outputId": "c031027c-626d-4155-94e7-5f1da41feafd"
      },
      "source": [
        "from nltk.stem import WordNetLemmatizer \n",
        "  \n",
        "lemmatizer = WordNetLemmatizer() \n",
        "lemmatizer.lemmatize('scratches')"
      ],
      "execution_count": null,
      "outputs": [
        {
          "output_type": "execute_result",
          "data": {
            "application/vnd.google.colaboratory.intrinsic+json": {
              "type": "string"
            },
            "text/plain": [
              "'scratch'"
            ]
          },
          "metadata": {
            "tags": []
          },
          "execution_count": 491
        }
      ]
    },
    {
      "cell_type": "code",
      "metadata": {
        "id": "Gg9COXd7Kx18"
      },
      "source": [
        ""
      ],
      "execution_count": null,
      "outputs": []
    },
    {
      "cell_type": "code",
      "metadata": {
        "id": "gweJXUiibudC"
      },
      "source": [
        ""
      ],
      "execution_count": null,
      "outputs": []
    },
    {
      "cell_type": "markdown",
      "metadata": {
        "id": "4dqnOqdobwEc"
      },
      "source": [
        "#rough work 2\n"
      ]
    },
    {
      "cell_type": "code",
      "metadata": {
        "colab": {
          "base_uri": "https://localhost:8080/"
        },
        "id": "abWYFw-qbyRb",
        "outputId": "c1b3f8d7-bf9d-4804-9e34-954fa1dbea54"
      },
      "source": [
        "\n",
        "# import these modules \n",
        "from nltk.stem import PorterStemmer \n",
        "from nltk.tokenize import word_tokenize \n",
        "   \n",
        "ps = PorterStemmer() \n",
        "  \n",
        "# choose some words to be stemmed \n",
        "words = [\"program\", \"programs\", \"programer\", \"great\", \"excellent\"] \n",
        "  \n",
        "for w in words: \n",
        "    print(w, \" : \", ps.stem(w)) "
      ],
      "execution_count": null,
      "outputs": [
        {
          "output_type": "stream",
          "text": [
            "program  :  program\n",
            "programs  :  program\n",
            "programer  :  program\n",
            "great  :  great\n",
            "excellent  :  excel\n"
          ],
          "name": "stdout"
        }
      ]
    },
    {
      "cell_type": "code",
      "metadata": {
        "id": "kpcc_uu8b7QY"
      },
      "source": [
        "k=wn.synsets('like','n')[0]"
      ],
      "execution_count": null,
      "outputs": []
    },
    {
      "cell_type": "code",
      "metadata": {
        "colab": {
          "base_uri": "https://localhost:8080/",
          "height": 129
        },
        "id": "e_5-tCcx9m2o",
        "outputId": "1e98ff0c-1694-4485-88df-a8e60973dcc4"
      },
      "source": [
        "for i in swn.senti_synsets('like','n')"
      ],
      "execution_count": null,
      "outputs": [
        {
          "output_type": "error",
          "ename": "SyntaxError",
          "evalue": "ignored",
          "traceback": [
            "\u001b[0;36m  File \u001b[0;32m\"<ipython-input-25-073e7998cc2d>\"\u001b[0;36m, line \u001b[0;32m1\u001b[0m\n\u001b[0;31m    for i in swn.senti_synsets('like','n')\u001b[0m\n\u001b[0m                                          ^\u001b[0m\n\u001b[0;31mSyntaxError\u001b[0m\u001b[0;31m:\u001b[0m invalid syntax\n"
          ]
        }
      ]
    },
    {
      "cell_type": "code",
      "metadata": {
        "id": "nhsZMt5p9mrQ"
      },
      "source": [
        ""
      ],
      "execution_count": null,
      "outputs": []
    },
    {
      "cell_type": "code",
      "metadata": {
        "id": "mrzseJwScNhZ"
      },
      "source": [
        "h=swn.senti_synsets('like','v')"
      ],
      "execution_count": null,
      "outputs": []
    },
    {
      "cell_type": "code",
      "metadata": {
        "colab": {
          "base_uri": "https://localhost:8080/"
        },
        "id": "aaIPChkIgefi",
        "outputId": "1948657b-9ae1-47a8-924b-f05ea7dc5ddf"
      },
      "source": [
        "for i in h:\n",
        "  print(i,i.pos_score())"
      ],
      "execution_count": null,
      "outputs": [
        {
          "output_type": "stream",
          "text": [
            "<wish.v.02: PosScore=0.125 NegScore=0.0> 0.125\n",
            "<like.v.02: PosScore=1.0 NegScore=0.0> 1.0\n",
            "<like.v.03: PosScore=0.375 NegScore=0.0> 0.375\n",
            "<like.v.04: PosScore=0.375 NegScore=0.0> 0.375\n",
            "<like.v.05: PosScore=0.125 NegScore=0.0> 0.125\n"
          ],
          "name": "stdout"
        }
      ]
    },
    {
      "cell_type": "code",
      "metadata": {
        "id": "DFle1fpjguEL"
      },
      "source": [
        "from nltk.corpus.reader import CorpusReader"
      ],
      "execution_count": null,
      "outputs": []
    },
    {
      "cell_type": "code",
      "metadata": {
        "colab": {
          "base_uri": "https://localhost:8080/",
          "height": 163
        },
        "id": "G2EvMfR-h2hA",
        "outputId": "a1263ca7-fc03-435f-dbe0-f8e2e9c60bda"
      },
      "source": [
        "k=SentiWordnetCorpusReader('This is great')"
      ],
      "execution_count": null,
      "outputs": [
        {
          "output_type": "error",
          "ename": "NameError",
          "evalue": "ignored",
          "traceback": [
            "\u001b[0;31m---------------------------------------------------------------------------\u001b[0m",
            "\u001b[0;31mNameError\u001b[0m                                 Traceback (most recent call last)",
            "\u001b[0;32m<ipython-input-58-14d0ea566a26>\u001b[0m in \u001b[0;36m<module>\u001b[0;34m()\u001b[0m\n\u001b[0;32m----> 1\u001b[0;31m \u001b[0mk\u001b[0m\u001b[0;34m=\u001b[0m\u001b[0mSentiWordnetCorpusReader\u001b[0m\u001b[0;34m(\u001b[0m\u001b[0;34m'This is great'\u001b[0m\u001b[0;34m)\u001b[0m\u001b[0;34m\u001b[0m\u001b[0;34m\u001b[0m\u001b[0m\n\u001b[0m",
            "\u001b[0;31mNameError\u001b[0m: name 'SentiWordnetCorpusReader' is not defined"
          ]
        }
      ]
    },
    {
      "cell_type": "code",
      "metadata": {
        "id": "AehzIamPjF2C"
      },
      "source": [
        ""
      ],
      "execution_count": null,
      "outputs": []
    }
  ]
}